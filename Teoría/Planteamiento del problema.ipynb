{
 "cells": [
  {
   "cell_type": "markdown",
   "id": "42c123d8",
   "metadata": {},
   "source": [
    "# **ANÁLISIS DE LA EVOLUCIÓN Y DESIGUALDAD DEL CONSUMO DE ENERGÍA PER CÁPITA EN LOS PAÍSES DE AMÉRICA DEL SUR ENTRE 1980 Y 2013, EVALUANDO SU RELACIÓN CON EL PIB PER CÁPITA.**\n",
    "\n",
    "## **El PROBLEMA**\n",
    "## Planteamiento del problema\n",
    "El consumo de energía es uno de los indicadores fundamentales del desarrollo económico y social de los países. A través de la energía se sostienen los sistemas productivos, las actividades domésticas, los servicios públicos y la infraestructura tecnológica que impulsa el bienestar y el crecimiento de las naciones. Sin embargo, la distribución y el uso de los recursos energéticos son disparejos.\n",
    "\n",
    "En este contexto, el consumo de energía per cápita expresado en kilogramos de petróleo, permite aproximarse a la relación entre el acceso a la energía y el nivel de desarrollo económico de cada país. Analizar su comportamiento a lo largo del tiempo ofrece una visión general de cómo la expansión industrial, el crecimiento poblacional y los cambios en la estructura económica han influido en el uso de los recursos energéticos.\n",
    "\n",
    "El período comprendido entre 1980 y 2013 resulta especialmente relevante, puesto que además de que es en ese periodo de tiempo donde Suramérica tiene registro de las variables estudiadas, también han acontecido sucesos que permitirán la variabilidad del consumo de energía per cápita en los distintos países seleccionados.\n",
    "\n",
    "Desde una perspectiva estadística, este estudio busca describir y comparar los patrones observados mediante el uso de herramientas gráficas y numéricas. \n",
    "\n",
    "\n",
    "## Formulación del problema\n",
    "¿De qué manera ha evolucionado el consumo de energía per cápita en los países de América del Sur entre 1980 y 2013, y cómo se relacionan sus diferencias con el nivel de desarrollo económico medido a través del PIB per cápita?\n",
    "\n",
    "\n",
    "## Interrogantes de la investigación\n",
    "- ¿Cómo ha variado el consumo de energía per cápita en los países de América del Sur durante el período 1980–2013, y cuáles son los cambios más significativos en su tendencia central y dispersión?\n",
    "\n",
    "- ¿Qué diferencias existen en los niveles promedio de consumo de energía per cápita entre los países sudamericanos, y cómo se vinculan dichas diferencias con el nivel de desarrollo económico reflejado en el PIB per cápita? \n",
    "\n",
    "- ¿En qué medida el crecimiento del PIB per cápita se corresponde con los cambios en el consumo de energía per cápita, y qué patrones pueden observarse en esta relación a lo largo del tiempo?\n",
    "\n",
    "\n",
    "\n",
    "## **OBJETIVOS DE LA INVESTIGACIÓN**\n",
    "\n",
    "## Objetivo General\n",
    "- Analizar la evolución del consumo de energía per cápita en los países de América del Sur entre 1980 y 2013, evaluando las diferencias en tendencia central y dispersión entre los países, y su relación con el PIB per cápita, con el fin de identificar desigualdades en el acceso y uso de los recursos energéticos.\n",
    "\n",
    "## Objetivos Específicos\n",
    "- Describir la evolución del consumo de energía per cápita en los países de América del Sur entre 1980 y 2013, identificando las variaciones más significativas en su tendencia central y dispersión durante el período.\n",
    "\n",
    "- Comparar los niveles promedio de consumo de energía per cápita entre los países sudamericanos, relacionando estas diferencias con el nivel de desarrollo económico medido a través del PIB per cápita.\n",
    "\n",
    "- Analizar la correspondencia entre el crecimiento del PIB per cápita y el consumo de energía per cápita, con el fin de determinar si los aumentos en la riqueza nacional se asocian con un mayor uso de recursos energéticos.\n",
    "\n"
   ]
  }
 ],
 "metadata": {
  "language_info": {
   "name": "python"
  }
 },
 "nbformat": 4,
 "nbformat_minor": 5
}
