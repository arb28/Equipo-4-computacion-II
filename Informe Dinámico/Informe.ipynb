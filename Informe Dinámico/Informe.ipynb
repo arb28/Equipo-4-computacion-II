{
 "cells": [
  {
   "cell_type": "markdown",
   "id": "24f39bbd",
   "metadata": {},
   "source": [
    "# **INTRODUCCIÓN**"
   ]
  },
  {
   "cell_type": "code",
   "execution_count": 66,
   "id": "f037e412",
   "metadata": {},
   "outputs": [],
   "source": [
    "### para exportar pdf sin celdas de codigo, ejecutar en el cmd del sistema:\n",
    "\n",
    "## cd C:\\Users\\User\\Desktop\\PROYECTO COMPU 1\n",
    "\n",
    "### python -m jupyter nbconvert --to pdf --no-input practica.ipynb"
   ]
  },
  {
   "cell_type": "code",
   "execution_count": 65,
   "id": "ef878584",
   "metadata": {},
   "outputs": [
    {
     "data": {
      "text/html": [
       "<div>\n",
       "<style scoped>\n",
       "    .dataframe tbody tr th:only-of-type {\n",
       "        vertical-align: middle;\n",
       "    }\n",
       "\n",
       "    .dataframe tbody tr th {\n",
       "        vertical-align: top;\n",
       "    }\n",
       "\n",
       "    .dataframe thead th {\n",
       "        text-align: right;\n",
       "    }\n",
       "</style>\n",
       "<table border=\"1\" class=\"dataframe\">\n",
       "  <thead>\n",
       "    <tr style=\"text-align: right;\">\n",
       "      <th></th>\n",
       "      <th>codigo pais</th>\n",
       "      <th>pais</th>\n",
       "      <th>anyo</th>\n",
       "      <th>energia per capita</th>\n",
       "      <th>pib per capita</th>\n",
       "    </tr>\n",
       "  </thead>\n",
       "  <tbody>\n",
       "    <tr>\n",
       "      <th>0</th>\n",
       "      <td>ABW</td>\n",
       "      <td>Aruba</td>\n",
       "      <td>1980</td>\n",
       "      <td>NaN</td>\n",
       "      <td>NaN</td>\n",
       "    </tr>\n",
       "    <tr>\n",
       "      <th>1</th>\n",
       "      <td>ABW</td>\n",
       "      <td>Aruba</td>\n",
       "      <td>1981</td>\n",
       "      <td>NaN</td>\n",
       "      <td>NaN</td>\n",
       "    </tr>\n",
       "    <tr>\n",
       "      <th>2</th>\n",
       "      <td>ABW</td>\n",
       "      <td>Aruba</td>\n",
       "      <td>1982</td>\n",
       "      <td>NaN</td>\n",
       "      <td>NaN</td>\n",
       "    </tr>\n",
       "    <tr>\n",
       "      <th>3</th>\n",
       "      <td>ABW</td>\n",
       "      <td>Aruba</td>\n",
       "      <td>1983</td>\n",
       "      <td>NaN</td>\n",
       "      <td>NaN</td>\n",
       "    </tr>\n",
       "    <tr>\n",
       "      <th>4</th>\n",
       "      <td>ABW</td>\n",
       "      <td>Aruba</td>\n",
       "      <td>1984</td>\n",
       "      <td>NaN</td>\n",
       "      <td>NaN</td>\n",
       "    </tr>\n",
       "  </tbody>\n",
       "</table>\n",
       "</div>"
      ],
      "text/latex": [
       "{\\begin{tabular}{lllrrr}\n",
       "\\toprule\n",
       " & codigo pais & pais & anyo & energia per capita & pib per capita \\\\\n",
       "\\midrule\n",
       "0 & ABW & Aruba & 1980 & NaN & NaN \\\\\n",
       "1 & ABW & Aruba & 1981 & NaN & NaN \\\\\n",
       "2 & ABW & Aruba & 1982 & NaN & NaN \\\\\n",
       "3 & ABW & Aruba & 1983 & NaN & NaN \\\\\n",
       "4 & ABW & Aruba & 1984 & NaN & NaN \\\\\n",
       "\\bottomrule\n",
       "\\end{tabular}\n",
       "}"
      ],
      "text/plain": [
       "  codigo pais   pais  anyo  energia per capita  pib per capita\n",
       "0         ABW  Aruba  1980                 NaN             NaN\n",
       "1         ABW  Aruba  1981                 NaN             NaN\n",
       "2         ABW  Aruba  1982                 NaN             NaN\n",
       "3         ABW  Aruba  1983                 NaN             NaN\n",
       "4         ABW  Aruba  1984                 NaN             NaN"
      ]
     },
     "execution_count": 65,
     "metadata": {},
     "output_type": "execute_result"
    }
   ],
   "source": [
    "#leer la base de datos en formato csv \n",
    "import pandas as pd\n",
    "\n",
    "pd.set_option('display.notebook_repr_html', True)\n",
    "\n",
    "def _repr_latex_(self):\n",
    "    return \"{%s}\" % self.to_latex()\n",
    "\n",
    "pd.DataFrame._repr_latex_ = _repr_latex_\n",
    "\n",
    "csv = (r'C:\\Users\\User\\Desktop\\RICARDO UNIVERSIDAD\\Equipo-4-computacion-II\\Limpieza de datos\\Datos.csv')\n",
    "df = pd.read_csv(csv)\n",
    "\n",
    "#mostrar primeras 5 filas del csv\n",
    "df.head(5)"
   ]
  }
 ],
 "metadata": {
  "author": "Ricardo Quintero, Arturo Borrero",
  "date": "Ricardo Quintero, Arturo Borrero",
  "language_info": {
   "name": "python"
  },
  "title": "ANALIZAR LA CORRELACIÓN ENTRE EL NIVEL EDUCATIVO PARENTAL Y LA PREPARACIÓN PREVIA PARA EXÁMENES EN ESTUDIANTES DE 5º Y 6º GRADO, CONSIDERANDO EL SEXO DEL ESTUDIANTE COMO FACTOR CLAVE EN ESTUDIANTES CON PADRES DE MENOR FORMACION EDUCATIVA"
 },
 "nbformat": 4,
 "nbformat_minor": 5
}
